{
 "cells": [
  {
   "cell_type": "markdown",
   "metadata": {},
   "source": [
    "# Latent Dirichlet Allocation"
   ]
  },
  {
   "cell_type": "markdown",
   "metadata": {},
   "source": [
    "## Introduction"
   ]
  },
  {
   "cell_type": "markdown",
   "metadata": {},
   "source": [
    "This notebook implements an LDA model for a corpus, about football, created with 12 articles from Wikipedia. The articles used are the following:\n",
    "- https://en.wikipedia.org/wiki/Ballon_d%27Or \n",
    "- https://en.wikipedia.org/wiki/Barcelona\n",
    "- https://en.wikipedia.org/wiki/UEFA_Champions_League\n",
    "- https://en.wikipedia.org/wiki/FIFA \n",
    "- https://en.wikipedia.org/wiki/Football \n",
    "- https://en.wikipedia.org/wiki/Andr%C3%A9s_Iniesta  \n",
    "- https://en.wikipedia.org/wiki/La_Liga  \n",
    "- https://en.wikipedia.org/wiki/Lionel_Messi \n",
    "- https://en.wikipedia.org/wiki/Premier_League \n",
    "- https://en.wikipedia.org/wiki/Real_Madrid_CF \n",
    "- https://en.wikipedia.org/wiki/Cristiano_Ronaldo \n",
    "- https://en.wikipedia.org/wiki/FIFA_World_Cup\n"
   ]
  },
  {
   "cell_type": "markdown",
   "metadata": {},
   "source": [
    "Note: The articles are used partially. "
   ]
  },
  {
   "cell_type": "markdown",
   "metadata": {},
   "source": [
    "## Reading and preprocessing the data"
   ]
  },
  {
   "cell_type": "markdown",
   "metadata": {},
   "source": [
    "The cell bellow will read all the files which are present in './Docs' and will add them to a list. And this list will be basically the input.\n",
    "\n",
    "The output is the name of the files read."
   ]
  },
  {
   "cell_type": "code",
   "execution_count": 1,
   "metadata": {},
   "outputs": [
    {
     "name": "stdout",
     "output_type": "stream",
     "text": [
      "ballonDor.txt\n",
      "barcelona.txt\n",
      "championsleague.txt\n",
      "fifa.txt\n",
      "football.txt\n",
      "iniesta.txt\n",
      "laliga.txt\n",
      "messi.txt\n",
      "premierleague.txt\n",
      "realmadrid.txt\n",
      "ronaldo.txt\n",
      "worldcup.txt\n"
     ]
    }
   ],
   "source": [
    "import os\n",
    "import re\n",
    "import nltk\n",
    "from nltk.stem import PorterStemmer\n",
    "import numpy as np\n",
    "import matplotlib.pyplot as plt\n",
    "fileContents = []\n",
    "filePrefix = \"./Docs/\"\n",
    "for r,d,f in os.walk(filePrefix):\n",
    "    for file in f:\n",
    "        print(file)\n",
    "        content = open(filePrefix + file,\"r\")\n",
    "        fileContents.append(content.read())\n",
    "         "
   ]
  },
  {
   "cell_type": "code",
   "execution_count": 2,
   "metadata": {},
   "outputs": [
    {
     "name": "stdout",
     "output_type": "stream",
     "text": [
      "Number of docs read 12\n"
     ]
    }
   ],
   "source": [
    "noFiles = len(fileContents)\n",
    "print('Number of docs read %s'%noFiles)"
   ]
  },
  {
   "cell_type": "markdown",
   "metadata": {},
   "source": [
    "### Text preprocessing\n",
    "\n",
    "In this section, we will apply some common preprocessing steps on the input to be able later to create a clean and relevant dictionary for our corpus."
   ]
  },
  {
   "cell_type": "markdown",
   "metadata": {},
   "source": [
    "This cell replaces all the characters in the initial input which are not letters with space."
   ]
  },
  {
   "cell_type": "code",
   "execution_count": 3,
   "metadata": {},
   "outputs": [],
   "source": [
    "        \n",
    "charactersToBeReplaced = '[^a-zA-Z]+'\n",
    "for i in range(len(fileContents)):\n",
    "    fileContents[i]=re.sub(charactersToBeReplaced,\" \",fileContents[i])"
   ]
  },
  {
   "cell_type": "markdown",
   "metadata": {},
   "source": [
    "This function will be used by the BuilderDictionary class later. Its purpose is to keep from the initial documents only the words which are nouns(with all the possible forms) and verb to the gerund."
   ]
  },
  {
   "cell_type": "code",
   "execution_count": 4,
   "metadata": {},
   "outputs": [],
   "source": [
    "def getTokens(corpus):\n",
    "    tokensList = []\n",
    "    for i in range(len(fileContents)):\n",
    "        tokensList = tokensList+fileContents[i].split()\n",
    "    aux = nltk.pos_tag(tokensList)\n",
    "    return [token.lower() for (token,tag) in aux if tag[0]=='N' or tag=='VBG' ]"
   ]
  },
  {
   "cell_type": "markdown",
   "metadata": {},
   "source": [
    "This function creates a dictionary with words and their frequencies, but it will take in consideration only the words which are in the list represented by the 3rd argument(this will be the list created by the above function) and it will ignore the ones which are in the 2nd argument(this will be the list of stopwords). Also, a second value will be returned by this function which will be the mean of the frequencies."
   ]
  },
  {
   "cell_type": "code",
   "execution_count": 5,
   "metadata": {},
   "outputs": [],
   "source": [
    "def getFrequenciesAndThreshold(corpus,ignoredWords,tokensList):\n",
    "    stemmer = PorterStemmer()\n",
    "    frequencies = {}\n",
    "    for doc in fileContents:\n",
    "        for word in doc.split():\n",
    "            stemWord = stemmer.stem(word.lower())\n",
    "            if stemWord not in ignoredWords and word.lower() not in ignoredWords and word.lower() in tokensList:\n",
    "                if stemWord in frequencies:\n",
    "                    frequencies[stemWord]+=1\n",
    "                else:\n",
    "                    frequencies[stemWord]=1\n",
    "    sumFreq = 0\n",
    "    for word in frequencies:\n",
    "        sumFreq+=frequencies[word]\n",
    "    threshold = sumFreq/(len(frequencies))\n",
    "    return frequencies,threshold\n"
   ]
  },
  {
   "cell_type": "markdown",
   "metadata": {},
   "source": [
    "The purpose of this class is to create the dictionary between words and the correspondent indexes in the corpus. It\n",
    "will use the above functions and a list of stopwords for that. The function 'buildDictionary' will check every word in the corpus to see if: its stemmed/normal form is not in the stopwords list, the normal form is among the tokenList(nouns and verbs to the gerund) and the word's frequency is above or equal with the threshold(mean of the all the frequencies). If the word will match all the precedent criteria then it will be added in the dictionary and its initial form will be saved."
   ]
  },
  {
   "cell_type": "code",
   "execution_count": 6,
   "metadata": {},
   "outputs": [],
   "source": [
    "class DictionaryBuilder:\n",
    "    def __init__(self,corpus):\n",
    "        self.corpus=corpus\n",
    "        self.ignoredWords=['a','a\\'s','able','about','above','according','accordingly','across','actually','after','afterwards','put','again','against','ain\\'t','ain','all','allow','allows','almost','alone','along','already','also','although','always','am','among','amongst','an','and','another','any','anybody','anyhow','anyone','anything','anyway','anyways','anywhere','apart','appear','appreciate','appropriate','are','aren','aren\\'t','around','as','aside','ask','asking','associated','at','available','away','awfully','b','be','became','because','become','becomes','becoming','been','before','beforehand','behind','being','believe','below','beside','besides','best','better','between','beyond','both','brief','but','by','c','c\\'mon','c\\'s','came','can','can\\'t','cannot','cant','cause','causes','certain','certainly','changes','clearly','co','com','come','comes','concerning','consequently','consider','considering','contain','containing','contains','corresponding','could','couldn','couldn\\'t','course','currently','d','definitely','described','despite','doesn','pull','unlike','did','didn','didn\\'t','different','do','does','doesn\\'t','doing','don\\'t','done','down','downwards','during','e','each','edu','eg','eight','either','else','elsewhere','enough','entirely','especially','et','etc','even','ever','every','everybody','everyone','everything','everywhere','ex','exactly','example','except','f','far','few','fifth','first','five','followed','following','follows','for','former','formerly','forth','four','from','further','furthermore','g','get','gets','getting','given','gives','go','goes','going','gone','got','gotten','greetings','h','had','hadn\\'t','happens','hardly','has','hasn','hasn\\'t','have','haven','haven\\'t','having','he','he\\'s','hello','help','hence','her','here','here\\'s','hereafter','hereby','herein','hereupon','hers','herself','hi','him','himself','his','hither','hopefully','how','howbeit','however','i','i\\'d','i\\'ll','i\\'m','i\\'ve','ie','if','ignored','immediate','in','inasmuch','inc','indeed','indicate','indicated','indicates','inner','insofar','instead','into','inward','is','isn','isn\\'t','it','it\\'d','it\\'ll','it\\'s','its','itself','j','just','k','keep','keeps','kept','know','knows','known','l','last','lately','later','latter','latterly','least','less','lest','let','let\\'s','like','liked','likely','little','look','looking','looks','ltd','m','mainly','many','may','maybe','me','mean','meanwhile','merely','might','more','moreover','most','mostly','much','must','my','myself','n','name','namely','nd','near','nearly','necessary','need','needs','neither','never','nevertheless','new','next','nine','no','nobody','non','none','noone','nor','normally','not','nothing','novel','now','nowhere','o','obviously','of','off','often','oh','ok','okay','old','on','once','one','ones','only','onto','or','other','others','otherwise','ought','our','ours','ourselves','out','outside','over','overall','own','p','particular','particularly','per','perhaps','placed','please','plus','possible','presumably','probably','provides','q','que','quite','qv','r','rather','rd','re','really','reasonably','regarding','regardless','regards','relatively','respectively','right','s','said','same','saw','say','saying','says','second','secondly','see','seeing','seem','seemed','seeming','seems','seen','self','selves','sensible','sent','serious','seriously','seven','several','shall','she','should','shouldn','shouldn\\'t','since','six','so','some','somebody','somehow','someone','something','sometime','sometimes','somewhat','somewhere','soon','sorry','specified','specify','specifying','still','sub','such','sup','sure','true','false','t','t\\'s','take','taken','tell','tends','th','than','thank','thanks','thanx','that','that\\'s','thats','the','their','theirs','them','themselves','then','thence','there','there\\'s','thereafter','thereby','therefore','therein','theres','thereupon','these','they','they\\'d','they\\'ll','they\\'re','they\\'ve','think','third','this','thorough','thoroughly','those','though','three','through','throughout','thru','thus','to','together','too','took','toward','towards','tried','tries','truly','try','trying','twice','two','u','un','under','unfortunately','unless','unlikely','until','unto','up','upon','us','use','used','useful','uses','using','usually','uucp','v','value','various','very','via','viz','vs','w','want','wants','was','wasn\\'t','way','we','we\\'d','we\\'ll','we\\'re','we\\'ve','welcome','well','went','were','weren','weren\\'t','what','what\\'s','whatever','when','whence','whenever','where','where\\'s','whereafter','whereas','whereby','wherein','whereupon','wherever','whether','which','while','whither','who','who\\'s','whoever','whole','whom','whose','why','will','willing','wish','with','within','without','won\\'t','wonder','would','would','wouldn','wouldn\\'t','x','y','yes','yet','you','you\\'d','man','ter','you\\'ll','you\\'re','you\\'ve','your','mr','yours','mustn','yourself','yourselves','z','zero']\n",
    "        self.tokensList = getTokens(corpus)\n",
    "        self.frequencies,self.threshold = getFrequenciesAndThreshold(corpus,self.ignoredWords,self.tokensList)\n",
    "    \n",
    "    \n",
    "    def buildDictionary(self):\n",
    "        dictionary = {}\n",
    "        initialWords = {}\n",
    "        stemmer = PorterStemmer()\n",
    "        newDocs = []\n",
    "        for doc in self.corpus:\n",
    "            auxDoc = []\n",
    "            for word in doc.split():\n",
    "                stemWord = stemmer.stem(word.lower())\n",
    "                if stemWord not in self.ignoredWords and word.lower() not in self.ignoredWords and word.lower() in self.tokensList:\n",
    "                    if self.frequencies[stemWord] >= int(self.threshold) :\n",
    "                        if stemWord in dictionary and word not in initialWords[stemWord]:\n",
    "                            initialWords[stemWord.lower()].append(word)\n",
    "                        if stemWord not in self.ignoredWords and len(stemWord)>1:\n",
    "                            if stemWord not in dictionary:\n",
    "                                dictionary[stemWord]=len(dictionary)\n",
    "                                initialWords[stemWord] = [word]\n",
    "                            auxDoc.append(stemWord)  \n",
    "            newDocs.append(auxDoc)\n",
    "        # returns a dictionary for the stemmed words with their initial form, dictionary will be word:index pairs and newDocs\n",
    "        # will be the corpus which contains only the words which passed the above filters\n",
    "        return initialWords, dictionary,newDocs\n",
    "\n"
   ]
  },
  {
   "cell_type": "markdown",
   "metadata": {},
   "source": [
    "Here we use the above class"
   ]
  },
  {
   "cell_type": "code",
   "execution_count": 7,
   "metadata": {},
   "outputs": [],
   "source": [
    "dictionaryBuilder = DictionaryBuilder(fileContents)\n",
    "origWord,dict,newDocs = dictionaryBuilder.buildDictionary()"
   ]
  },
  {
   "cell_type": "code",
   "execution_count": null,
   "metadata": {},
   "outputs": [],
   "source": []
  },
  {
   "cell_type": "markdown",
   "metadata": {},
   "source": [
    "## Building the model"
   ]
  },
  {
   "cell_type": "markdown",
   "metadata": {},
   "source": [
    "Some initializations:\n",
    "- beta = the parameter of the Dirichlet prior on the per-topic word distribution. Initialized with 1 because we want to start from a flat Dirichlet distribution.\n",
    "- K = number of topics\n",
    "- alpha = the parameter of the Dirichlet prior on the per-doc topic distribution. Initialized with 1 because we want to start from a flat Dirichlet distribution.\n",
    "- M = number of docs\n",
    "- N = vector of docs dimensions"
   ]
  },
  {
   "cell_type": "code",
   "execution_count": 8,
   "metadata": {},
   "outputs": [],
   "source": [
    "beta=np.ones(len(dict))\n",
    "K=5\n",
    "alpha=np.ones(K)\n",
    "M=noFiles\n",
    "N=np.zeros(M,dtype=int)\n",
    "for i,content in enumerate(newDocs):\n",
    "    N[i]=len(content)"
   ]
  },
  {
   "cell_type": "markdown",
   "metadata": {},
   "source": [
    "Here we replace the stemmed words from the corpus with the indexes saved in the dictionary"
   ]
  },
  {
   "cell_type": "code",
   "execution_count": 9,
   "metadata": {},
   "outputs": [],
   "source": [
    "data = np.empty(M,dtype=object)\n",
    "for i,doc in enumerate(newDocs):\n",
    "    data[i] = np.empty(N[i],dtype=int)\n",
    "    for j,word in enumerate(doc):\n",
    "        data[i][j] = dict[word]\n"
   ]
  },
  {
   "cell_type": "markdown",
   "metadata": {},
   "source": [
    "To implement LDA, we consider a document from the corpus to be a set of latent topics and each topic to be described by a distribution over the words. We model this with the following:\n",
    "- theta[i] is a distribution over topics for the document i.\n",
    "- phi[i] is a distribution over words for the topic i.\n",
    "- z[i][j] is the topic of word j in the ith document. This value will be chosen with the help of a categorical random variable which has a probability parameter equal to theta[i].\n",
    "- w[i][j] is the word j in document i. Its value is given by a categorical random variable which has a probability parameter equal to phi[z[i][j]]."
   ]
  },
  {
   "cell_type": "markdown",
   "metadata": {},
   "source": [
    "phi is a list of length equal to the number of topics and its elements are probability distributions over vocabulary(arrays of numbers between 0 and 1 which sums to 1). So, phi[i].value[j] will be the probability of jth word from the vocabulary(keys of the dictionary) to be in the topic i."
   ]
  },
  {
   "cell_type": "code",
   "execution_count": 10,
   "metadata": {},
   "outputs": [],
   "source": [
    "import pymc\n",
    "\n",
    "phi = np.empty(K, dtype=object)\n",
    "auxPhi = np.empty(K, dtype=object)\n",
    "for i in range(K):\n",
    "    auxPhi[i]=pymc.Dirichlet(\"auxPhi_%s\" % i,beta)\n",
    "    phi[i]=pymc.CompletedDirichlet(\"phi_%s\" % i,auxPhi[i])"
   ]
  },
  {
   "cell_type": "markdown",
   "metadata": {},
   "source": [
    "Similar with phi, theta is a list of probability distributions, but this time the theta length is equal to the number of docs in the corpus and the lengths of the probability vectors are equal to the number of topics."
   ]
  },
  {
   "cell_type": "code",
   "execution_count": 11,
   "metadata": {},
   "outputs": [],
   "source": [
    "theta = np.empty(M, dtype=object)\n",
    "auxTheta = np.empty(M, dtype=object)\n",
    "for i in range(M):\n",
    "    auxTheta[i]=pymc.Dirichlet(\"auxtheta_%s\" % i,alpha)\n",
    "    theta[i]=pymc.CompletedDirichlet(\"theta_%s\" % i,auxTheta[i])"
   ]
  },
  {
   "cell_type": "markdown",
   "metadata": {},
   "source": [
    "z is a list of random variables used to map between a word and a topic. So, z[i][j] is the topic of word j in the i-th document.\n",
    "Theta[i] is used as a prior distribution for the probability vectors of the categoricals inside z[i]."
   ]
  },
  {
   "cell_type": "code",
   "execution_count": 12,
   "metadata": {},
   "outputs": [],
   "source": [
    "z = []\n",
    "for i in range(M):\n",
    "    aux=[]\n",
    "    for j in range(N[i]):\n",
    "        aux.append(pymc.Categorical(\"z_%s_%s\" %(i,j),p=theta[i]))\n",
    "    z.append(pymc.Container(aux))"
   ]
  },
  {
   "cell_type": "markdown",
   "metadata": {},
   "source": [
    "w[i][j] is the index of jth word in the ith document. These values are the only ones which are observed in the model.\n",
    "For the probability parameter of the Categorical random variable, associated with each word in the corpus, we use as a prior the\n",
    "Dirichlet distribution given by phi[z[i][j]] which means that we populate the probability parameter with the probability distribution over vocabulary of the topic saved in z[i][j]. To do this, we create a deterministic random variable with the help of Lambda from pymc."
   ]
  },
  {
   "cell_type": "code",
   "execution_count": 13,
   "metadata": {},
   "outputs": [],
   "source": [
    "w = []\n",
    "\n",
    "for i in range(M):\n",
    "    for j in range(N[i]):\n",
    "        w.append(pymc.Categorical(\"w_%s_%s\" %(i,j),p= pymc.Lambda('phi_z_%i_%i' % (i,j), \n",
    "                              lambda z=z[i][j], phi=phi: phi[z]),observed=True,value=data[i][j]))"
   ]
  },
  {
   "cell_type": "markdown",
   "metadata": {},
   "source": [
    "Now we create the model using the random variables from above, but we add them in containers since they all are of an iterable type. And we ask for samples from the mcmc.\n"
   ]
  },
  {
   "cell_type": "code",
   "execution_count": 14,
   "metadata": {
    "scrolled": true
   },
   "outputs": [
    {
     "name": "stderr",
     "output_type": "stream",
     "text": [
      "C:\\Users\\Alin\\Anaconda3\\envs\\pymc\\lib\\site-packages\\pymc\\MCMC.py:81: UserWarning: Instantiating a Model object directly is deprecated. We recommend passing variables directly to the Model subclass.\n",
      "  warnings.warn(message)\n"
     ]
    },
    {
     "name": "stdout",
     "output_type": "stream",
     "text": [
      " [-----------------100%-----------------] 15000 of 15000 complete in 2515.2 sec"
     ]
    }
   ],
   "source": [
    "model = pymc.Model([pymc.Container(auxPhi),pymc.Container(auxTheta),pymc.Container(phi),pymc.Container(theta),pymc.Container(z),pymc.Container(w)])\n",
    "\n",
    "mcmc = pymc.MCMC(model)\n",
    "it=15000\n",
    "burn=8000\n",
    "dim=it-burn\n",
    "mcmc.sample(it,burn)\n"
   ]
  },
  {
   "cell_type": "markdown",
   "metadata": {},
   "source": [
    "We save the trace for phi and theta"
   ]
  },
  {
   "cell_type": "code",
   "execution_count": 15,
   "metadata": {},
   "outputs": [],
   "source": [
    "phi_samples = np.empty((K,dim,len(dict)))\n",
    "for i in range(K):\n",
    "    phi_samples[i] = mcmc.trace('phi_%i' % i)[:].reshape(dim,len(dict))\n",
    "\n",
    "theta_samples=np.empty((M,dim,K))\n",
    "for i in range(M):\n",
    "    theta_samples[i] = mcmc.trace('theta_%i' % i)[:].reshape(dim,K)\n"
   ]
  },
  {
   "cell_type": "markdown",
   "metadata": {},
   "source": [
    "Plots for the trace of the first theta(probability distribution over topics for the first doc)"
   ]
  },
  {
   "cell_type": "code",
   "execution_count": 16,
   "metadata": {},
   "outputs": [
    {
     "name": "stdout",
     "output_type": "stream",
     "text": [
      "Plotting theta_0_0_0\n",
      "Plotting theta_0_0_1\n",
      "Plotting theta_0_0_2\n",
      "Plotting theta_0_0_3\n",
      "Plotting theta_0_0_4\n"
     ]
    },
    {
     "data": {
      "image/png": "[encoded data removed]",
      "text/plain": [
       "<Figure size 720x432 with 12 Axes>"
      ]
     },
     "metadata": {
      "needs_background": "light"
     },
     "output_type": "display_data"
    },
    {
     "data": {
      "image/png": "[encoded data removed]",
      "text/plain": [
       "<Figure size 720x432 with 3 Axes>"
      ]
     },
     "metadata": {
      "needs_background": "light"
     },
     "output_type": "display_data"
    }
   ],
   "source": [
    "from pymc.Matplot import plot\n",
    "plot(mcmc.trace('theta_0'))"
   ]
  },
  {
   "cell_type": "markdown",
   "metadata": {},
   "source": [
    "## See the results"
   ]
  },
  {
   "cell_type": "markdown",
   "metadata": {},
   "source": [
    "Here we compute the mean of the theta samples in order to obtain the probability distributions over topics for every doc.\n",
    "We can see here for example that the last topic describes well the document about Messi and Barcelona(8 and 2).\n"
   ]
  },
  {
   "cell_type": "code",
   "execution_count": 17,
   "metadata": {
    "scrolled": true
   },
   "outputs": [
    {
     "name": "stdout",
     "output_type": "stream",
     "text": [
      "[[0.03228509 0.06521626 0.48852804 0.31197981 0.10199079]\n",
      " [0.02636445 0.21266672 0.15385577 0.10586153 0.50125153]\n",
      " [0.03061394 0.36558253 0.04691269 0.31120267 0.24568818]\n",
      " [0.03047472 0.11396411 0.46897193 0.05574918 0.33084007]\n",
      " [0.04571738 0.07955232 0.66767355 0.0737314  0.13332535]\n",
      " [0.02692055 0.07350483 0.24005013 0.24071381 0.41881068]\n",
      " [0.15409217 0.09850875 0.62477699 0.04634643 0.07627567]\n",
      " [0.07391507 0.09073474 0.09208266 0.20697557 0.53629195]\n",
      " [0.18974723 0.45068842 0.06385968 0.08519882 0.21050585]\n",
      " [0.02592263 0.13692121 0.10720398 0.32246955 0.40748264]\n",
      " [0.01418332 0.27177255 0.14481259 0.48418613 0.08504541]\n",
      " [0.02658376 0.38770361 0.05902628 0.18062742 0.34605893]]\n"
     ]
    }
   ],
   "source": [
    "theta_samples_mean = np.mean(theta_samples,axis=1)\n",
    "print(theta_samples_mean)"
   ]
  },
  {
   "cell_type": "markdown",
   "metadata": {},
   "source": [
    "To get the first 20 most important words in every topic we use the mean of the phi samples and then we sort them."
   ]
  },
  {
   "cell_type": "code",
   "execution_count": 18,
   "metadata": {},
   "outputs": [],
   "source": [
    "countImportantWords = 20\n",
    "valuesForPred = np.mean(phi_samples,axis=1)\n",
    "mostImportantWords = np.empty((K,countImportantWords))\n",
    "probabilityValues = np.empty((K,countImportantWords))\n",
    "for i in range(K):\n",
    "    mostImportantWords[i] = (np.argsort(valuesForPred[i])[len(dict)-countImportantWords:])[::-1]\n",
    "    probabilityValues[i] = (np.sort(valuesForPred[i])[len(dict)-countImportantWords:])[::-1]"
   ]
  },
  {
   "cell_type": "markdown",
   "metadata": {},
   "source": [
    "Top 20 words in each topic. \n",
    "The initial forms of words will be displayed.(the ones saved in origWord).\n",
    "From these results we can see for example that the last topic is mainly about a football club and especially about Barcelona. And this explains the above theta values for the 2nd and 8th documents"
   ]
  },
  {
   "cell_type": "markdown",
   "metadata": {},
   "source": [
    "If we want to describe the semantic value of every topic, we can say that:\n",
    "- the first topic is about leagues of football, in our case only Premier League and La liga\n",
    "- the second topic I think is more about competitions in general:Champions league, World Cups\n",
    "- the 3rd topic is about football players and awards\n",
    "- the 4th topic is about FIFA and the competitions organised by it:European and World Cups\n",
    "- the last topic is about football clubs and tournaments"
   ]
  },
  {
   "cell_type": "code",
   "execution_count": 19,
   "metadata": {
    "scrolled": true
   },
   "outputs": [
    {
     "name": "stdout",
     "output_type": "stream",
     "text": [
      "topic_0\n",
      "Probabilities: [0.08608288 0.06676238 0.05690907 0.04219631 0.03682639 0.02960999\n",
      " 0.02693988 0.02389167 0.02016313 0.01918237 0.01799585 0.01706893\n",
      " 0.01644314 0.01632121 0.01627025 0.01586903 0.01531221 0.01488558\n",
      " 0.01395675 0.01377449]\n",
      "['League', 'league', 'leagues', 'Leagues']\n",
      "['seasons', 'season', 'Seasons']\n",
      "['Premier']\n",
      "['Real', 'real']\n",
      "['Cup', 'Cups']\n",
      "['winning']\n",
      "['sports', 'Sports', 'sporting', 'sport', 'Sporting']\n",
      "['time', 'times']\n",
      "['La', 'la']\n",
      "['English']\n",
      "['play', 'playing']\n",
      "['teams', 'team', 'Team']\n",
      "['games', 'game', 'Games']\n",
      "['June']\n",
      "['South']\n",
      "['professional', 'Professional']\n",
      "['rules']\n",
      "['Europa']\n",
      "['World', 'world']\n",
      "['championship', 'championships', 'Championship']\n",
      "topic_1\n",
      "Probabilities: [0.06880931 0.05755685 0.050071   0.0481562  0.0328766  0.02469891\n",
      " 0.02400084 0.02234921 0.02027761 0.02005795 0.01968956 0.01952264\n",
      " 0.01853257 0.01832621 0.01816013 0.01812785 0.01628062 0.01587296\n",
      " 0.01577581 0.01541224]\n",
      "['World', 'world']\n",
      "['titles', 'title']\n",
      "['Champions', 'champions', 'Champion', 'champion']\n",
      "['League', 'league', 'leagues', 'Leagues']\n",
      "['Premier']\n",
      "['European']\n",
      "['age']\n",
      "['Espa']\n",
      "['national', 'nations', 'National', 'Nations', 'nation']\n",
      "['countries', 'country']\n",
      "['Year', 'year', 'years']\n",
      "['trick', 'tricks']\n",
      "['football', 'Football', 'footballers', 'footballer']\n",
      "['professional', 'Professional']\n",
      "['sports', 'Sports', 'sporting', 'sport', 'Sporting']\n",
      "['UEFA']\n",
      "['hat']\n",
      "['Copa']\n",
      "['tournaments', 'tournament', 'Tournament']\n",
      "['clubs', 'Club', 'club', 'Clubs']\n",
      "topic_2\n",
      "Probabilities: [0.0813457  0.06795841 0.04890568 0.04155262 0.03627305 0.03302827\n",
      " 0.0329502  0.0227222  0.02244397 0.02097735 0.02040512 0.01899442\n",
      " 0.01828129 0.01774396 0.01729003 0.01532237 0.01485303 0.01468696\n",
      " 0.01449954 0.0142907 ]\n",
      "['football', 'Football', 'footballers', 'footballer']\n",
      "['Liga', 'Ligas']\n",
      "['seasons', 'season', 'Seasons']\n",
      "['FIFA']\n",
      "['La', 'la']\n",
      "['titles', 'title']\n",
      "['Barcelona']\n",
      "['home', 'homes']\n",
      "['include', 'including']\n",
      "['Ballon', 'Ballons']\n",
      "['international', 'International']\n",
      "['Union', 'union']\n",
      "['codes']\n",
      "['UEFA']\n",
      "['clubs', 'Club', 'club', 'Clubs']\n",
      "['Associations', 'associations', 'Association', 'association']\n",
      "['Iniesta']\n",
      "['award', 'awards']\n",
      "['Spain']\n",
      "['Madrid']\n",
      "topic_3\n",
      "Probabilities: [0.0696167  0.05557784 0.04708349 0.04446926 0.04322605 0.04261531\n",
      " 0.03970847 0.03843692 0.03440265 0.02753955 0.02618749 0.0245984\n",
      " 0.02438459 0.02104126 0.01931016 0.0185296  0.01850071 0.01809161\n",
      " 0.01786658 0.01740111]\n",
      "['Player', 'player', 'players']\n",
      "['Madrid']\n",
      "['World', 'world']\n",
      "['European']\n",
      "['League', 'league', 'leagues', 'Leagues']\n",
      "['Ronaldo']\n",
      "['national', 'nations', 'National', 'Nations', 'nation']\n",
      "['matches', 'Match', 'match']\n",
      "['FIFA']\n",
      "['Champions', 'champions', 'Champion', 'champion']\n",
      "['time', 'times']\n",
      "['Ballon', 'Ballons']\n",
      "['teams', 'team', 'Team']\n",
      "['UEFA']\n",
      "['back']\n",
      "['championship', 'championships', 'Championship']\n",
      "['La', 'la']\n",
      "['worth']\n",
      "['note']\n",
      "['Supercopa']\n",
      "topic_4\n",
      "Probabilities: [0.10989338 0.04680586 0.04200186 0.03635165 0.03583895 0.03328928\n",
      " 0.02724538 0.02447717 0.02369349 0.02332867 0.02267261 0.02248921\n",
      " 0.0210139  0.0207557  0.01917564 0.01894451 0.01867666 0.01815178\n",
      " 0.0149262  0.01486173]\n",
      "['clubs', 'Club', 'club', 'Clubs']\n",
      "['football', 'Football', 'footballers', 'footballer']\n",
      "['trophies', 'trophy']\n",
      "['tournaments', 'tournament', 'Tournament']\n",
      "['Barcelona']\n",
      "['Member', 'members', 'member']\n",
      "['Cup', 'Cups']\n",
      "['worth']\n",
      "['penalties', 'penalty']\n",
      "['Iniesta']\n",
      "['Argentina']\n",
      "['Spanish']\n",
      "['goal', 'goals']\n",
      "['South']\n",
      "['award', 'awards']\n",
      "['de']\n",
      "['competitions', 'competition']\n",
      "['teams', 'team', 'Team']\n",
      "['Messi']\n",
      "['Associations', 'associations', 'Association', 'association']\n"
     ]
    }
   ],
   "source": [
    "texts = []\n",
    "aux=''\n",
    "for i in range(K):\n",
    "    print('topic_%i'%i)\n",
    "    print('Probabilities:',probabilityValues[i])\n",
    "    aux=''\n",
    "    for value in mostImportantWords[i]:\n",
    "        for word in dict:\n",
    "            if dict[word]==value:\n",
    "                print(origWord[word])\n",
    "                aux = aux+ ' ' + ' '.join(origWord[word])\n",
    "    texts.append(aux)"
   ]
  },
  {
   "cell_type": "markdown",
   "metadata": {},
   "source": [
    "Top 20 words as wordclouds"
   ]
  },
  {
   "cell_type": "code",
   "execution_count": null,
   "metadata": {},
   "outputs": [],
   "source": [
    "from wordcloud import WordCloud\n",
    "for i in range(K):\n",
    "    wordcloud = WordCloud(max_font_size=50, max_words=20, background_color=\"white\").generate(texts[i])\n",
    "    plt.figure()\n",
    "    plt.title('Topic_%i'%i)\n",
    "    plt.imshow(wordcloud)\n",
    "    plt.show()"
   ]
  },
  {
   "cell_type": "markdown",
   "metadata": {},
   "source": [
    "## Topic-based similarity measure between documents"
   ]
  },
  {
   "cell_type": "markdown",
   "metadata": {},
   "source": [
    "To define a topic-based similarity measure between documents we can apply any similarity measure on the samples of theta.\n",
    "For example, bellow is applied the cosine similarity, on the mean of the theta samples, to the docs about barcelona and messi and to the docs about barcelona and the ballon d'or award. And we can see that similarity for the first pair is bigger.(as expected)\n"
   ]
  },
  {
   "cell_type": "code",
   "execution_count": 20,
   "metadata": {},
   "outputs": [
    {
     "name": "stdout",
     "output_type": "stream",
     "text": [
      "Cosine similarity between doc_1 and doc_7:0.953114\n",
      "Cosine similarity between doc_1 and doc_0:0.509270\n"
     ]
    }
   ],
   "source": [
    "product = np.dot(theta_samples_mean[1], theta_samples_mean[7])\n",
    "norm_doc1 = np.linalg.norm(theta_samples_mean[1])\n",
    "norm_doc7 = np.linalg.norm(theta_samples_mean[7])\n",
    "cos_similarity = product / (norm_doc1 * norm_doc7)\n",
    "print('Cosine similarity between doc_1 and doc_7:%f'%cos_similarity)\n",
    "product = np.dot(theta_samples_mean[1], theta_samples_mean[0])\n",
    "norm_doc1 = np.linalg.norm(theta_samples_mean[1])\n",
    "norm_doc0 = np.linalg.norm(theta_samples_mean[0])\n",
    "cos_similarity = product / (norm_doc1 * norm_doc0)\n",
    "print('Cosine similarity between doc_1 and doc_0:%f'%cos_similarity)\n"
   ]
  },
  {
   "cell_type": "markdown",
   "metadata": {},
   "source": [
    "## How to obtain the topic distribution for a new document?\n",
    "- read the new file and keep only the words which are in our dictionary\n",
    "- extend theta to contain a dirichlet distribution for the new document. Do the same with w and z.(categoricals for the words in the last document).\n",
    "- initialize all the random variables with the values obtained before.\n",
    "- set phi observed\n",
    "- ask mcmc for fewer samples than before"
   ]
  },
  {
   "cell_type": "code",
   "execution_count": 22,
   "metadata": {},
   "outputs": [
    {
     "name": "stdout",
     "output_type": "stream",
     "text": [
      "xavi.txt\n"
     ]
    }
   ],
   "source": [
    "filePrefix = \"./test/\"\n",
    "test = ''\n",
    "for r,d,f in os.walk(filePrefix):\n",
    "    for file in f:\n",
    "        print(file)\n",
    "        content = open(filePrefix + file,\"r\")\n",
    "        test = content.read()\n",
    "        break\n",
    "        \n",
    "charactersToBeReplaced = '[^a-zA-Z]+'\n",
    "test=re.sub(charactersToBeReplaced,\" \",test)\n",
    "stemmer = PorterStemmer()\n",
    "newDoc = [stemmer.stem(word.lower()) for word in test.split() if stemmer.stem(word.lower()) in dict ]\n",
    "newDocs.append(newDoc)\n",
    "N=np.zeros(M+1,dtype=int)\n",
    "for i,content in enumerate(newDocs):\n",
    "    N[i]=len(content)"
   ]
  },
  {
   "cell_type": "code",
   "execution_count": 25,
   "metadata": {},
   "outputs": [],
   "source": [
    "data = np.empty(M+1,dtype=object)\n",
    "for i,doc in enumerate(newDocs):\n",
    "    data[i] = np.empty(N[i],dtype=int)\n",
    "    for j,word in enumerate(doc):\n",
    "        data[i][j] = dict[word]"
   ]
  },
  {
   "cell_type": "code",
   "execution_count": 26,
   "metadata": {},
   "outputs": [],
   "source": [
    "phi2 = np.empty(K, dtype=object)\n",
    "auxPhi2 = np.empty(K, dtype=object)\n",
    "beta = np.ones(len(dict))\n",
    "for i in range(K):\n",
    "    auxPhi2[i]=pymc.Dirichlet(\"auxPhi_%s\" % i,beta,value=auxPhi[i].value,observed=True)\n",
    "    phi2[i]=pymc.CompletedDirichlet(\"phi_%s\" % i,auxPhi2[i])\n",
    "theta2 = np.empty(M+1, dtype=object)\n",
    "auxTheta2 = np.empty(M+1, dtype=object)\n",
    "for i in range(M):\n",
    "    auxTheta2[i]=pymc.Dirichlet(\"auxtheta_%s\" % i,alpha,value=auxTheta[i].value)\n",
    "    theta2[i]=pymc.CompletedDirichlet(\"theta_%s\" % i,auxTheta2[i])\n",
    "auxTheta2[M]=pymc.Dirichlet(\"auxtheta_%s\" % M,alpha)\n",
    "theta2[M]=pymc.CompletedDirichlet(\"theta_%s\" % M,auxTheta2[M])\n",
    "\n",
    "z2 = []\n",
    "for i in range(M):\n",
    "    aux=[]\n",
    "    for j in range(N[i]):\n",
    "        aux.append(pymc.Categorical(\"z_%s_%s\" %(i,j),p=theta2[i]))\n",
    "    z2.append(pymc.Container(aux))\n",
    "aux=[]\n",
    "for j in range(N[M]):\n",
    "    aux.append(pymc.Categorical(\"z_%s_%s\" %(M,j),p=theta2[M]))\n",
    "z2.append(pymc.Container(aux))\n",
    "\n",
    "\n",
    "w2 = []\n",
    "for i in range(M):\n",
    "    for j in range(N[i]):\n",
    "        w2.append(pymc.Categorical(\"w_%s_%s\" %(i,j),p= pymc.Lambda('phi_z_%i_%i' % (i,j), \n",
    "                              lambda z=z2[i][j], phi=phi2: phi[z].reshape(len(dict))),observed=True,value=data[i][j]))\n",
    "for j in range(N[M]):\n",
    "    w2.append(pymc.Categorical(\"w_%s_%s\" %(M,j),p= pymc.Lambda('phi_z_%i_%i' % (M,j), \n",
    "                                  lambda z=z2[M][j], phi=phi2: phi[z].reshape(len(dict))),observed=True,value=data[M][j]))"
   ]
  },
  {
   "cell_type": "code",
   "execution_count": 29,
   "metadata": {},
   "outputs": [
    {
     "name": "stdout",
     "output_type": "stream",
     "text": [
      " [-----------------100%-----------------] 500 of 500 complete in 64.4 sec"
     ]
    }
   ],
   "source": [
    "model = pymc.Model([pymc.Container(auxTheta2),pymc.Container(auxPhi2),pymc.Container(phi2),pymc.Container(theta2),pymc.Container(z2),pymc.Container(w)])\n",
    "\n",
    "mcmc = pymc.MCMC(model)\n",
    "it=500\n",
    "burn=300\n",
    "dim=it-burn\n",
    "mcmc.sample(it,burn)\n"
   ]
  },
  {
   "cell_type": "markdown",
   "metadata": {},
   "source": [
    "We see below that this new doc(which is about Xavi Hernandez,Barcelona and spanish player) is described best by the topic about  competitions in general:Champions league, World Cups(2nd)(Xavi is a winner of these competitions) and the one about football players and awards(3rd topic)."
   ]
  },
  {
   "cell_type": "code",
   "execution_count": 30,
   "metadata": {},
   "outputs": [
    {
     "name": "stdout",
     "output_type": "stream",
     "text": [
      "[0.13877699 0.21365173 0.28945576 0.2413138  0.11680171]\n"
     ]
    }
   ],
   "source": [
    "theta_samples2=np.empty((M+1,dim,K))\n",
    "for i in range(M+1):\n",
    "    theta_samples2[i] = mcmc.trace('theta_%i' % i)[:].reshape(dim,K)\n",
    "theta_samples_mean2 = np.mean(theta_samples2,axis=1)\n",
    "print(theta_samples_mean2[M])"
   ]
  }
 ],
 "metadata": {
  "kernelspec": {
   "display_name": "Python 3",
   "language": "python",
   "name": "python3"
  },
  "language_info": {
   "codemirror_mode": {
    "name": "ipython",
    "version": 3
   },
   "file_extension": ".py",
   "mimetype": "text/x-python",
   "name": "python",
   "nbconvert_exporter": "python",
   "pygments_lexer": "ipython3",
   "version": "3.6.7"
  }
 },
 "nbformat": 4,
 "nbformat_minor": 2
}
